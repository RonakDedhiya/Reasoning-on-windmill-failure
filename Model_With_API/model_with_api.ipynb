{
 "cells": [
  {
   "cell_type": "markdown",
   "metadata": {},
   "source": [
    "# MLP Model with Rest API"
   ]
  },
  {
   "cell_type": "code",
   "execution_count": 3,
   "metadata": {},
   "outputs": [],
   "source": [
    "## Import Library\n",
    "from keras.models import load_model\n",
    "import matplotlib.pyplot as plt\n",
    "import pandas as pd\n",
    "import numpy as np\n",
    "import json\n",
    "%matplotlib inline\n"
   ]
  },
  {
   "cell_type": "code",
   "execution_count": 17,
   "metadata": {},
   "outputs": [
    {
     "name": "stdout",
     "output_type": "stream",
     "text": [
      "Input Pattern:\n"
     ]
    },
    {
     "data": {
      "image/png": "[encoded data removed]",
      "text/plain": [
       "<matplotlib.figure.Figure at 0x22f8cf60>"
      ]
     },
     "metadata": {},
     "output_type": "display_data"
    },
    {
     "name": "stdout",
     "output_type": "stream",
     "text": [
      "Output: \n",
      "\n",
      "{\n",
      "    \"output\": [\n",
      "        \"{\\\"Cause\\\": \\\"BladeAccumulatorPressureIssues\\\", \\\"prob\\\": 99.86}\",\n",
      "        \"{\\\"Cause\\\": \\\"Anemometer errors\\\", \\\"prob\\\": 0.07}\"\n",
      "    ]\n",
      "}\n"
     ]
    }
   ],
   "source": [
    "\n",
    "## Read Data\n",
    "test=pd.read_csv('test_data.csv')\n",
    "x_test=test.drop(test.columns[[0,101]],axis=1,inplace=False)\n",
    "x_test=np.array(x_test)\n",
    "\n",
    "## Load trained model\n",
    "model=load_model(\"MLP.h5\")\n",
    "\n",
    "## Loading Sample\n",
    "Sample_index=3\n",
    "demo_y=test.loc[Sample_index,'101']\n",
    "demo_x=x_test[Sample_index]\n",
    "print(\"Input Pattern:\")\n",
    "plt.plot(demo_x)\n",
    "plt.show()\n",
    "demo_x=demo_x.reshape([1,100])\n",
    "\n",
    "## Predict Output\n",
    "y_pred=model.predict(demo_x)\n",
    "\n",
    "##Causes\n",
    "class_names=['Anemometer errors','BladeAccumulatorPressureIssues', 'CoolingSystemIssues', 'Generator speed discrepancies', 'Oil Leakage', 'Overheated oil']\n",
    "\n",
    "## Display Result\n",
    "pred=list(y_pred[0])\n",
    "pred1=pred.copy()\n",
    "print(\"Output: \\n\")\n",
    "out_list=[]\n",
    "prob=[]\n",
    "for i in range(0,2):\n",
    "    max_val=max(pred1)\n",
    "    out=str(round(max_val * 100,2)) + \" % chances of\" + str(class_names[pred.index(max_val)])\n",
    "    pr=json.dumps({\"Cause\":class_names[pred.index(max_val)],\"prob\":round(max_val*100,2)})\n",
    "    prob.append(pr)\n",
    "    out_list.append(out)\n",
    "    pred1.remove(max_val)\n",
    "print(json.dumps({\"output\":prob}, sort_keys=True, indent=4))\n"
   ]
  },
  {
   "cell_type": "code",
   "execution_count": 9,
   "metadata": {},
   "outputs": [
    {
     "name": "stdout",
     "output_type": "stream",
     "text": [
      "2017-12-21 06:13:10\n",
      "2017-12-21 06:13:20\n",
      "2017-12-21 06:13:30\n",
      "2017-12-21 06:13:40\n",
      "2017-12-21 06:13:50\n",
      "2017-12-21 06:14:00\n",
      "2017-12-21 06:14:10\n",
      "2017-12-21 06:14:20\n",
      "2017-12-21 06:14:30\n",
      "2017-12-21 06:14:40\n",
      "2017-12-21 06:14:50\n",
      "2017-12-21 06:15:00\n",
      "2017-12-21 06:15:10\n",
      "2017-12-21 06:15:20\n",
      "2017-12-21 06:15:30\n",
      "2017-12-21 06:15:40\n",
      "2017-12-21 06:15:50\n",
      "2017-12-21 06:16:00\n",
      "2017-12-21 06:16:10\n",
      "2017-12-21 06:16:20\n",
      "2017-12-21 06:16:30\n",
      "2017-12-21 06:16:40\n",
      "2017-12-21 06:16:50\n",
      "2017-12-21 06:17:00\n",
      "2017-12-21 06:17:10\n",
      "2017-12-21 06:17:20\n",
      "2017-12-21 06:17:30\n",
      "2017-12-21 06:17:40\n",
      "2017-12-21 06:17:50\n",
      "2017-12-21 06:18:00\n",
      "2017-12-21 06:18:10\n",
      "2017-12-21 06:18:20\n",
      "2017-12-21 06:18:30\n",
      "2017-12-21 06:18:40\n",
      "2017-12-21 06:18:50\n",
      "2017-12-21 06:19:00\n",
      "2017-12-21 06:19:10\n",
      "2017-12-21 06:19:20\n",
      "2017-12-21 06:19:30\n",
      "2017-12-21 06:19:40\n",
      "2017-12-21 06:19:50\n",
      "2017-12-21 06:20:00\n",
      "2017-12-21 06:20:10\n",
      "2017-12-21 06:20:20\n",
      "2017-12-21 06:20:30\n",
      "2017-12-21 06:20:40\n",
      "2017-12-21 06:20:50\n",
      "2017-12-21 06:21:00\n",
      "2017-12-21 06:21:10\n",
      "2017-12-21 06:21:20\n",
      "2017-12-21 06:21:30\n",
      "2017-12-21 06:21:40\n",
      "2017-12-21 06:21:50\n",
      "2017-12-21 06:22:00\n",
      "2017-12-21 06:22:10\n",
      "2017-12-21 06:22:20\n",
      "2017-12-21 06:22:30\n",
      "2017-12-21 06:22:40\n",
      "2017-12-21 06:22:50\n",
      "2017-12-21 06:23:00\n",
      "2017-12-21 06:23:10\n",
      "2017-12-21 06:23:20\n",
      "2017-12-21 06:23:30\n",
      "2017-12-21 06:23:40\n",
      "2017-12-21 06:23:50\n",
      "2017-12-21 06:24:00\n",
      "2017-12-21 06:24:10\n",
      "2017-12-21 06:24:20\n",
      "2017-12-21 06:24:30\n",
      "2017-12-21 06:24:40\n",
      "2017-12-21 06:24:50\n",
      "2017-12-21 06:25:00\n",
      "2017-12-21 06:25:10\n",
      "2017-12-21 06:25:20\n",
      "2017-12-21 06:25:30\n",
      "2017-12-21 06:25:40\n",
      "2017-12-21 06:25:50\n",
      "2017-12-21 06:26:00\n",
      "2017-12-21 06:26:10\n",
      "2017-12-21 06:26:20\n",
      "2017-12-21 06:26:30\n",
      "2017-12-21 06:26:40\n",
      "2017-12-21 06:26:50\n",
      "2017-12-21 06:27:00\n",
      "2017-12-21 06:27:10\n",
      "2017-12-21 06:27:20\n",
      "2017-12-21 06:27:30\n",
      "2017-12-21 06:27:40\n",
      "2017-12-21 06:27:50\n",
      "2017-12-21 06:28:00\n",
      "2017-12-21 06:28:10\n",
      "2017-12-21 06:28:20\n",
      "2017-12-21 06:28:30\n",
      "2017-12-21 06:28:40\n",
      "2017-12-21 06:28:50\n",
      "2017-12-21 06:29:00\n",
      "2017-12-21 06:29:10\n",
      "2017-12-21 06:29:20\n",
      "2017-12-21 06:29:30\n",
      "2017-12-21 06:29:40\n",
      "2017-12-21 06:29:50\n"
     ]
    }
   ],
   "source": [
    "from datetime import datetime, timedelta\n",
    "\n",
    "t = datetime(2017, 12, 21, 6, 13, 10)\n",
    "\n",
    "while t < datetime(2017, 12, 21, 6, 29, 54):\n",
    "    print(t)\n",
    "\n",
    "    t = t + timedelta(seconds=10)"
   ]
  },
  {
   "cell_type": "code",
   "execution_count": null,
   "metadata": {},
   "outputs": [],
   "source": []
  }
 ],
 "metadata": {
  "kernelspec": {
   "display_name": "Python 3",
   "language": "python",
   "name": "python3"
  },
  "language_info": {
   "codemirror_mode": {
    "name": "ipython",
    "version": 3
   },
   "file_extension": ".py",
   "mimetype": "text/x-python",
   "name": "python",
   "nbconvert_exporter": "python",
   "pygments_lexer": "ipython3",
   "version": "3.6.2"
  },
  "varInspector": {
   "cols": {
    "lenName": 16,
    "lenType": 16,
    "lenVar": 40
   },
   "kernels_config": {
    "python": {
     "delete_cmd_postfix": "",
     "delete_cmd_prefix": "del ",
     "library": "var_list.py",
     "varRefreshCmd": "print(var_dic_list())"
    },
    "r": {
     "delete_cmd_postfix": ") ",
     "delete_cmd_prefix": "rm(",
     "library": "var_list.r",
     "varRefreshCmd": "cat(var_dic_list()) "
    }
   },
   "types_to_exclude": [
    "module",
    "function",
    "builtin_function_or_method",
    "instance",
    "_Feature"
   ],
   "window_display": false
  }
 },
 "nbformat": 4,
 "nbformat_minor": 2
}
