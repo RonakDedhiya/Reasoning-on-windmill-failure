{
 "cells": [
  {
   "cell_type": "code",
   "execution_count": 98,
   "metadata": {},
   "outputs": [],
   "source": [
    "## Load Library\n",
    "import pandas as pd\n",
    "import datetime\n",
    "from datetime import timedelta\n",
    "import json\n",
    "import requests\n",
    "import numpy as np"
   ]
  },
  {
   "cell_type": "code",
   "execution_count": 106,
   "metadata": {},
   "outputs": [],
   "source": [
    "def equal(s1, s2):\n",
    "    d1=datetime.datetime.strptime(s1, '%Y-%m-%d %H:%M:%S')\n",
    "    d2=datetime.datetime.strptime(s2, '%Y-%m-%d %H:%M:%S')\n",
    "    difference=(d1-d2)\n",
    "    return difference.seconds\n",
    "\n",
    "def get_input_data(s1):\n",
    "    ## Load Data\n",
    "    test_data=pd.read_csv(\"test.csv\",header=None)\n",
    "    \n",
    "    #s1=\"2012-01-01 00:16:40\"\n",
    "    d1=datetime.datetime.strptime(s1, '%Y-%m-%d %H:%M:%S')\n",
    "    d1=d1-timedelta(seconds=10)\n",
    "    s1=str(d1)\n",
    "    ## get the difference and index\n",
    "    index=int(equal(s1,test_data.iloc[0,0])/10)\n",
    "    diff=equal(s1,test_data.iloc[index,0])\n",
    "\n",
    "    if diff != 0:\n",
    "        for i in range(test_data.shape[0]):\n",
    "            diff=equal(s1,test_data.iloc[i,0])\n",
    "            if diff == 0:\n",
    "                index=i\n",
    "                break\n",
    "\n",
    "    ## Get last 100 data\n",
    "    input_data=test_data.iloc[index-99:index+1,1]\n",
    "    return input_data"
   ]
  },
  {
   "cell_type": "code",
   "execution_count": 100,
   "metadata": {},
   "outputs": [],
   "source": [
    "REQUEST = json.dumps({\n",
    "'path' : {},\n",
    "'args' : {},\n",
    "'body' : {}\n",
    "})"
   ]
  },
  {
   "cell_type": "code",
   "execution_count": 101,
   "metadata": {},
   "outputs": [
    {
     "name": "stdout",
     "output_type": "stream",
     "text": [
      "None\n"
     ]
    }
   ],
   "source": [
    "# POST /Get_Data\n",
    "req = json.loads(REQUEST)\n",
    "args=req['body'].get(\"timestamp\")\n",
    "#print(req)\n",
    "if args != None:\n",
    "    input_data=get_input_data(str(args))\n",
    "    input_data=list(input_data)\n",
    "    print(json.dumps({\"Input\":input_data}))"
   ]
  },
  {
   "cell_type": "code",
   "execution_count": null,
   "metadata": {},
   "outputs": [],
   "source": []
  }
 ],
 "metadata": {
  "kernelspec": {
   "display_name": "Python 3",
   "language": "python",
   "name": "python3"
  },
  "language_info": {
   "codemirror_mode": {
    "name": "ipython",
    "version": 3
   },
   "file_extension": ".py",
   "mimetype": "text/x-python",
   "name": "python",
   "nbconvert_exporter": "python",
   "pygments_lexer": "ipython3",
   "version": "3.6.2"
  }
 },
 "nbformat": 4,
 "nbformat_minor": 2
}
