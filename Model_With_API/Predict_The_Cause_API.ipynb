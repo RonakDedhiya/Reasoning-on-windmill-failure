{
 "cells": [
  {
   "cell_type": "code",
   "execution_count": 4,
   "metadata": {},
   "outputs": [],
   "source": [
    "import math\n",
    "import json\n",
    "import requests\n",
    "from keras.models import load_model\n",
    "import numpy as np"
   ]
  },
  {
   "cell_type": "code",
   "execution_count": 5,
   "metadata": {},
   "outputs": [],
   "source": [
    "REQUEST = json.dumps({\n",
    "'path' : {},\n",
    "'args' : {},\n",
    "'body' : {}\n",
    "})\n",
    "model=load_model(\"MLP.h5\")"
   ]
  },
  {
   "cell_type": "code",
   "execution_count": 6,
   "metadata": {},
   "outputs": [
    {
     "name": "stdout",
     "output_type": "stream",
     "text": [
      "Output: \n",
      "\n",
      "{\"Output\": [\"18.46% chances of Anemometer errors\", \"16.67% chances of BladeAccumulatorPressureIssues\"]}\n"
     ]
    }
   ],
   "source": [
    "# POST /Predict\n",
    "req = json.loads(REQUEST)\n",
    "args=req['body'].get(\"Input\")\n",
    "if args == None:\n",
    "    Input_data=np.zeros(100) \n",
    "else:\n",
    "    Input_data=args\n",
    "Input_data=np.array(Input_data)\n",
    "Input_data=Input_data.reshape([1,100])\n",
    "y_pred=model.predict(Input_data)\n",
    "##Causes\n",
    "class_names=['Anemometer errors','BladeAccumulatorPressureIssues', 'CoolingSystemIssues', 'Generator speed discrepancies', 'Oil Leakage', 'Overheated oil']\n",
    "\n",
    "## Display Result\n",
    "pred=list(y_pred[0])\n",
    "pred1=pred.copy()\n",
    "out_list=[]\n",
    "print(\"Output: \\n\")\n",
    "for i in range(0,2):\n",
    "    max_val=max(pred1)\n",
    "    out=str(round(max_val * 100,2)) + \"% chances of \" + str(class_names[pred.index(max_val)])\n",
    "    out_list.append(out)\n",
    "    pred1.remove(max_val)\n",
    "print(json.dumps({\"Output\":out_list}))"
   ]
  },
  {
   "cell_type": "code",
   "execution_count": 7,
   "metadata": {},
   "outputs": [],
   "source": [
    "# POST /Predict_The_Causes\n",
    "req = json.loads(REQUEST)\n",
    "args=req['body'].get(\"timestamp\")\n",
    "if args != None:\n",
    "    url = \"http://localhost:8889/Get_Data\"\n",
    "    payload={}\n",
    "    payload['timestamp']=args\n",
    "    headers = {\n",
    "    'content-type': \"application/json\",\n",
    "    'cache-control': \"no-cache\",\n",
    "    }\n",
    "    response = requests.request(\"POST\", url, json=payload, headers=headers)\n",
    "    data = response.json()\n",
    "    Input_data=data[\"Input\"]\n",
    "    Input_data=np.array(Input_data)\n",
    "    Input_data=Input_data.reshape([1,100])\n",
    "    y_pred=model.predict(Input_data)\n",
    "    ##Causes\n",
    "    class_names=['Anemometer errors','BladeAccumulatorPressureIssues', 'CoolingSystemIssues', 'Generator speed discrepancies', 'Oil Leakage', 'Overheated oil']\n",
    "\n",
    "    ## Display Result\n",
    "    pred=list(y_pred[0])\n",
    "    pred1=pred.copy()\n",
    "    out_list=[]\n",
    "    print(\"Output: \\n\")\n",
    "    for i in range(0,2):\n",
    "        max_val=max(pred1)\n",
    "        out=str(round(max_val * 100,2)) + \"% chances of \" + str(class_names[pred.index(max_val)])\n",
    "        out_list.append(out)\n",
    "        pred1.remove(max_val)\n",
    "    print(json.dumps({\"Output\":out_list}))\n"
   ]
  }
 ],
 "metadata": {
  "kernelspec": {
   "display_name": "Python 3",
   "language": "python",
   "name": "python3"
  },
  "language_info": {
   "codemirror_mode": {
    "name": "ipython",
    "version": 3
   },
   "file_extension": ".py",
   "mimetype": "text/x-python",
   "name": "python",
   "nbconvert_exporter": "python",
   "pygments_lexer": "ipython3",
   "version": "3.6.2"
  },
  "varInspector": {
   "cols": {
    "lenName": 16,
    "lenType": 16,
    "lenVar": 40
   },
   "kernels_config": {
    "python": {
     "delete_cmd_postfix": "",
     "delete_cmd_prefix": "del ",
     "library": "var_list.py",
     "varRefreshCmd": "print(var_dic_list())"
    },
    "r": {
     "delete_cmd_postfix": ") ",
     "delete_cmd_prefix": "rm(",
     "library": "var_list.r",
     "varRefreshCmd": "cat(var_dic_list()) "
    }
   },
   "types_to_exclude": [
    "module",
    "function",
    "builtin_function_or_method",
    "instance",
    "_Feature"
   ],
   "window_display": false
  }
 },
 "nbformat": 4,
 "nbformat_minor": 2
}
