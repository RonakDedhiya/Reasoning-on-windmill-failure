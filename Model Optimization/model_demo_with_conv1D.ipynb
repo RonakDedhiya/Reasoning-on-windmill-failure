{
 "cells": [
  {
   "cell_type": "markdown",
   "metadata": {},
   "source": [
    "# MLP Model with Rest API"
   ]
  },
  {
   "cell_type": "code",
   "execution_count": 1,
   "metadata": {},
   "outputs": [
    {
     "name": "stderr",
     "output_type": "stream",
     "text": [
      "c:\\users\\a661249\\appdata\\local\\programs\\python\\python36\\lib\\site-packages\\h5py\\__init__.py:36: FutureWarning: Conversion of the second argument of issubdtype from `float` to `np.floating` is deprecated. In future, it will be treated as `np.float64 == np.dtype(float).type`.\n",
      "  from ._conv import register_converters as _register_converters\n",
      "Using TensorFlow backend.\n"
     ]
    }
   ],
   "source": [
    "## Import Library\n",
    "from keras.models import load_model\n",
    "import matplotlib.pyplot as plt\n",
    "import pandas as pd\n",
    "import numpy as np\n",
    "import json\n",
    "%matplotlib inline\n"
   ]
  },
  {
   "cell_type": "code",
   "execution_count": 4,
   "metadata": {},
   "outputs": [],
   "source": [
    "## Read Data\n",
    "test=pd.read_csv('test_data.csv')\n",
    "x_test=test.drop(test.columns[[0,101]],axis=1,inplace=False)\n",
    "x_test=np.array(x_test)\n",
    "\n",
    "\n",
    "## Load trained model\n",
    "model=load_model(\"conv1d_model.h5\")"
   ]
  },
  {
   "cell_type": "markdown",
   "metadata": {},
   "source": [
    "# Cognitive Reasoning On Temperature Pattern"
   ]
  },
  {
   "cell_type": "code",
   "execution_count": 10,
   "metadata": {},
   "outputs": [
    {
     "name": "stdout",
     "output_type": "stream",
     "text": [
      "Input Pattern:\n"
     ]
    },
    {
     "data": {
      "image/png": "[encoded data removed]",
      "text/plain": [
       "<matplotlib.figure.Figure at 0x15d29198>"
      ]
     },
     "metadata": {},
     "output_type": "display_data"
    },
    {
     "name": "stdout",
     "output_type": "stream",
     "text": [
      "Output: \n",
      "\n",
      "40.15% chances of CoolingSystemIssues\n",
      "37.72% chances of BladeAccumulatorPressureIssues\n"
     ]
    }
   ],
   "source": [
    "## Loading Sample\n",
    "Sample_index=0\n",
    "demo_y=test.loc[Sample_index,'101']\n",
    "demo_x=x_test[Sample_index]\n",
    "print(\"Input Pattern:\")\n",
    "plt.plot(demo_x)\n",
    "plt.show()\n",
    "demo_x = np.expand_dims(demo_x, axis=2)\n",
    "demo_x=demo_x.reshape([1,100,1])\n",
    "\n",
    "## Predict Output\n",
    "y_pred=model.predict(demo_x)\n",
    "\n",
    "##Causes\n",
    "class_names=['Anemometer errors','BladeAccumulatorPressureIssues', 'CoolingSystemIssues', 'Generator speed discrepancies', 'Oil Leakage', 'Overheated oil']\n",
    "\n",
    "## Display Result\n",
    "pred=list(y_pred[0])\n",
    "pred1=pred.copy()\n",
    "print(\"Output: \\n\")\n",
    "out_list=[]\n",
    "prob=[]\n",
    "for i in range(0,2):\n",
    "    max_val=max(pred1)\n",
    "    out=str(round(max_val * 100,2)) + \"% chances of \" + str(class_names[pred.index(max_val)])\n",
    "    print(out)\n",
    "    out_list.append(out)\n",
    "    pred1.remove(max_val)\n",
    "#print(json.dumps({\"output\":prob}, sort_keys=True, indent=4))"
   ]
  },
  {
   "cell_type": "code",
   "execution_count": null,
   "metadata": {},
   "outputs": [],
   "source": []
  },
  {
   "cell_type": "code",
   "execution_count": null,
   "metadata": {},
   "outputs": [],
   "source": []
  },
  {
   "cell_type": "code",
   "execution_count": null,
   "metadata": {},
   "outputs": [],
   "source": []
  },
  {
   "cell_type": "code",
   "execution_count": null,
   "metadata": {},
   "outputs": [],
   "source": []
  },
  {
   "cell_type": "code",
   "execution_count": null,
   "metadata": {},
   "outputs": [],
   "source": []
  },
  {
   "cell_type": "code",
   "execution_count": null,
   "metadata": {},
   "outputs": [],
   "source": []
  },
  {
   "cell_type": "code",
   "execution_count": null,
   "metadata": {},
   "outputs": [],
   "source": [
    "from datetime import datetime, timedelta\n",
    "\n",
    "t = datetime(2017, 12, 21, 6, 13, 10)\n",
    "\n",
    "while t < datetime(2017, 12, 21, 6, 29, 54):\n",
    "    print(t)\n",
    "\n",
    "    t = t + timedelta(seconds=10)"
   ]
  },
  {
   "cell_type": "code",
   "execution_count": null,
   "metadata": {},
   "outputs": [],
   "source": []
  }
 ],
 "metadata": {
  "kernelspec": {
   "display_name": "Python 3",
   "language": "python",
   "name": "python3"
  },
  "language_info": {
   "codemirror_mode": {
    "name": "ipython",
    "version": 3
   },
   "file_extension": ".py",
   "mimetype": "text/x-python",
   "name": "python",
   "nbconvert_exporter": "python",
   "pygments_lexer": "ipython3",
   "version": "3.6.2"
  },
  "varInspector": {
   "cols": {
    "lenName": 16,
    "lenType": 16,
    "lenVar": 40
   },
   "kernels_config": {
    "python": {
     "delete_cmd_postfix": "",
     "delete_cmd_prefix": "del ",
     "library": "var_list.py",
     "varRefreshCmd": "print(var_dic_list())"
    },
    "r": {
     "delete_cmd_postfix": ") ",
     "delete_cmd_prefix": "rm(",
     "library": "var_list.r",
     "varRefreshCmd": "cat(var_dic_list()) "
    }
   },
   "types_to_exclude": [
    "module",
    "function",
    "builtin_function_or_method",
    "instance",
    "_Feature"
   ],
   "window_display": false
  }
 },
 "nbformat": 4,
 "nbformat_minor": 2
}
