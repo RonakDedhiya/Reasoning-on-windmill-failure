{
 "cells": [
  {
   "cell_type": "code",
   "execution_count": null,
   "metadata": {},
   "outputs": [],
   "source": [
    "## Import Library\n",
    "import keras\n",
    "import tensorflow as tf\n",
    "from keras import optimizers\n",
    "from keras import regularizers\n",
    "import os\n",
    "from keras import backend as K\n",
    "from keras.models import Sequential\n",
    "from keras.layers import Dense\n",
    "import pandas as pd\n",
    "import numpy as np\n",
    "import random as rn\n",
    "np.random.seed(42)\n",
    "tf.set_random_seed(1234)"
   ]
  },
  {
   "cell_type": "code",
   "execution_count": null,
   "metadata": {},
   "outputs": [],
   "source": [
    "## Read Data\n",
    "train=pd.read_csv('/Dataset/train_data_one_to_one.csv')\n",
    "test=pd.read_csv('/Dataset/test_data.csv')\n",
    "\n",
    "## Label defining\n",
    "y_train=train.loc[:,'101']\n",
    "y_test=test.loc[:,'101']\n",
    "y_train=y_train.append(y_test,ignore_index=True)\n",
    "y_train=pd.get_dummies(y_train)     # to one hot_encoding\n",
    "y_test=y_train[580:]\n",
    "y_train=y_train[0:580]\n",
    "\n",
    "\n",
    "## Features Extraction\n",
    "x_train=train.drop(train.columns[[0,101]],axis=1,inplace=False)\n",
    "x_test=test.drop(test.columns[[0,101]],axis=1,inplace=False)\n",
    "\n",
    "## Convert to numpy\n",
    "x_train=np.array(x_train)\n",
    "x_test=np.array(x_test)\n",
    "y_train=np.array(y_train)\n",
    "y_test=np.array(y_test)\n",
    "\n",
    "## To select any row\n",
    "#print(data.iloc[0:2])\n",
    "## To selct any column\n",
    "#print(data.loc[:,'0'])\n"
   ]
  },
  {
   "cell_type": "code",
   "execution_count": null,
   "metadata": {},
   "outputs": [],
   "source": [
    "## To Obtain Reproducible result\n",
    "os.environ['PYTHONHASHSEED'] = '0'\n",
    "np.random.seed(42)\n",
    "rn.seed(12345)\n",
    "session_conf = tf.ConfigProto(intra_op_parallelism_threads=1, inter_op_parallelism_threads=1)\n",
    "tf.set_random_seed(1234)\n",
    "sess = tf.Session(graph=tf.get_default_graph(), config=session_conf)\n",
    "K.set_session(sess)\n",
    "\n",
    "## Model Creation\n",
    "model=Sequential()\n",
    "model.add(Dense(64,activation ='relu',bias_initializer='glorot_normal',\n",
    "                kernel_regularizer=regularizers.l2(0.005),bias_regularizer=regularizers.l2(0.1),input_dim=100,name='FC_1'))\n",
    "model.add(Dense(32,activation='relu',bias_initializer='glorot_normal',\n",
    "                kernel_regularizer=regularizers.l2(0.005),bias_regularizer=regularizers.l2(0.1),name='FC_2'))\n",
    "model.add(Dense(32,activation='relu',bias_initializer='glorot_normal',\n",
    "                 kernel_regularizer=regularizers.l2(0.005),bias_regularizer=regularizers.l2(0.1),name='FC_3'))\n",
    "model.add(Dense(6,activation='softmax',name='softmax_layer'))\n",
    "\n",
    "adam=optimizers.Adam(lr=0.00001)\n",
    "\n",
    "model.compile(loss='categorical_crossentropy',optimizer=adam,metrics=['accuracy'])\n",
    "model.fit(x_train,y_train,epochs=3900,batch_size=16,validation_data=[x_test,y_test])\n",
    "model.evaluate(x_test,y_test,batch_size=1)\n"
   ]
  },
  {
   "cell_type": "code",
   "execution_count": null,
   "metadata": {
    "slideshow": {
     "slide_type": "slide"
    }
   },
   "outputs": [],
   "source": [
    "## Evaluating model\n",
    "actual_result=test.loc[:,'101']                      ## Desired_output\n",
    "pred=model.predict_classes(x_test)                   ## Predicted_result\n",
    "class_names=['Anemometer errors','BladeAccumulatorPressureIssues', 'CoolingSystemIssues', 'Generator speed discrepancies', 'Oil Leakage', 'Overheated oil']\n",
    "pred_result=[]\n",
    "j=0\n",
    "## To convert integer to class_names\n",
    "for i in pred:\n",
    "    pred_result=np.append(pred_result,class_names[i])\n",
    "    ## Printing Mislaballed data\n",
    "    if(actual_result[j] != pred_result[j]):\n",
    "        print(\"MisLabelled: Index:\",j,\",Actual_result:\",actual_result[j],\", Predicted_result:\",pred_result[j])\n",
    "    #else:\n",
    "    #    print(\"Correct: Index:\",j,\",Actual_result:\",actual_result[j],\", Predicted_result:\",pred_result[j])\n",
    "    j=j+1"
   ]
  },
  {
   "cell_type": "code",
   "execution_count": null,
   "metadata": {},
   "outputs": [],
   "source": [
    "## Demo of model\n",
    "import matplotlib.pyplot as plt\n",
    "%matplotlib inline\n",
    "\n",
    "## Change the index the sample will change - use any value between 0 and 59\n",
    "index=0\n",
    "\n",
    "## Loading a sample Input and its actual result\n",
    "demo_y=test.loc[index,'101']\n",
    "demo_x=x_test[index]\n",
    "\n",
    "## Plot the sample\n",
    "plt.plot(demo_x)\n",
    "plt.show()\n",
    "demo_x=demo_x.reshape([1,100])\n",
    "print(\"Actual:\",demo_y)\n",
    "\n",
    "## Predict the output from model\n",
    "y_pred=model.predict_classes(demo_x)\n",
    "print(y_pred)\n",
    "print(\"Prediction:\",class_names[y_pred[0]])"
   ]
  }
 ],
 "metadata": {
  "kernelspec": {
   "display_name": "Python 3",
   "language": "python",
   "name": "python3"
  },
  "language_info": {
   "codemirror_mode": {
    "name": "ipython",
    "version": 3
   },
   "file_extension": ".py",
   "mimetype": "text/x-python",
   "name": "python",
   "nbconvert_exporter": "python",
   "pygments_lexer": "ipython3",
   "version": "3.6.4"
  }
 },
 "nbformat": 4,
 "nbformat_minor": 2
}
