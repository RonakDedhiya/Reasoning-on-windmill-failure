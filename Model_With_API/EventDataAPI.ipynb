{
 "cells": [
  {
   "cell_type": "code",
   "execution_count": null,
   "metadata": {},
   "outputs": [],
   "source": [
    "## Load Library\n",
    "import pandas as pd\n",
    "import datetime\n",
    "from datetime import timedelta\n",
    "import json\n",
    "import requests\n",
    "import numpy as np"
   ]
  },
  {
   "cell_type": "code",
   "execution_count": null,
   "metadata": {},
   "outputs": [],
   "source": [
    "def equal(s1, s2):\n",
    "    d1=datetime.datetime.strptime(s1, '%Y-%m-%d %H:%M:%S')\n",
    "    d2=datetime.datetime.strptime(s2, '%Y-%m-%d %H:%M:%S')\n",
    "    difference=(d1-d2)\n",
    "    return difference.seconds\n",
    "\n",
    "def get_input_data(s1):\n",
    "    ## Load Data\n",
    "    test_data=pd.read_csv(\"test.csv\",header=None)\n",
    "    \n",
    "    #s1=\"2012-01-01 00:16:40\"\n",
    "    d1=datetime.datetime.strptime(s1, '%Y-%m-%d %H:%M:%S')\n",
    "    d1=d1-timedelta(seconds=10)\n",
    "    s1=str(d1)\n",
    "    index=0\n",
    "    for i in range(test_data.shape[0]):\n",
    "        diff=equal(s1,test_data.iloc[i,0])\n",
    "        if diff <= 10:\n",
    "            index=i\n",
    "            break\n",
    "    ## Get last 100 data\n",
    "    input_data=test_data.iloc[index-99:index+1,1]\n",
    "    return input_data\n",
    "\n",
    "#s1=\"2017-12-13 10:23:05\"\n",
    "#s1=\"2017-12-21 06:29:54\"\n",
    "#get_input_data(s1)"
   ]
  },
  {
   "cell_type": "code",
   "execution_count": null,
   "metadata": {},
   "outputs": [],
   "source": [
    "REQUEST = json.dumps({\n",
    "'path' : {},\n",
    "'args' : {},\n",
    "'body' : {}\n",
    "})"
   ]
  },
  {
   "cell_type": "code",
   "execution_count": null,
   "metadata": {},
   "outputs": [],
   "source": [
    "# POST /Get_Predictions\n",
    "req = json.loads(REQUEST)\n",
    "args=req['body'].get(\"timestamp\")\n",
    "#print(req)\n",
    "if args != None:\n",
    "    input_data=get_input_data(str(args))\n",
    "    input_data=list(input_data)\n",
    "    url = \"http://localhost:8889/Predict\"\n",
    "    payload={}\n",
    "    payload['Input']=input_data\n",
    "    headers = {\n",
    "    'content-type': \"application/json\",\n",
    "    'cache-control': \"no-cache\",\n",
    "    }\n",
    "    response = requests.request(\"POST\", url, json=payload, headers=headers)\n",
    "    print(json.dumps(response.json()))"
   ]
  }
 ],
 "metadata": {
  "kernelspec": {
   "display_name": "Python 3",
   "language": "python",
   "name": "python3"
  },
  "language_info": {
   "codemirror_mode": {
    "name": "ipython",
    "version": 3
   },
   "file_extension": ".py",
   "mimetype": "text/x-python",
   "name": "python",
   "nbconvert_exporter": "python",
   "pygments_lexer": "ipython3",
   "version": "3.6.2"
  }
 },
 "nbformat": 4,
 "nbformat_minor": 2
}
